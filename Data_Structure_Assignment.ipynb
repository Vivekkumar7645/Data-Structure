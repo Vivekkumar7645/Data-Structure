{
  "nbformat": 4,
  "nbformat_minor": 0,
  "metadata": {
    "colab": {
      "provenance": []
    },
    "kernelspec": {
      "name": "python3",
      "display_name": "Python 3"
    },
    "language_info": {
      "name": "python"
    }
  },
  "cells": [
    {
      "cell_type": "markdown",
      "source": [
        "#Data types and Structures Questions"
      ],
      "metadata": {
        "id": "6C9OlzQSHdAM"
      }
    },
    {
      "cell_type": "markdown",
      "source": [
        "##Q 1. What are data structures, and why are they important?\n",
        "**Ans** - In python data structures are constructs used to store, organize data in a way that makes it easier to access, modify, and manage. They are essential tools for efficiently solving problems, as they enable us to handle, retrieve, and manipulate data systematically."
      ],
      "metadata": {
        "id": "Oo3WJARJI-jx"
      }
    },
    {
      "cell_type": "markdown",
      "source": [
        "Data structures in Python are crucial for writing code that is not only correct but also efficient and scalable. Mastering them is essential for tackling complex problems in programming and computer science.\n",
        "1. Efficient Data Management: They allow data to be stored and retrieved quickly. For instance, dictionaries provide O(1) average time complexity for lookups.\n",
        "2. Optimized Algorithms: Certain algorithms require specific data structures to work efficiently. For example, Dijkstra's algorithm uses a priority queue.\n",
        "3. Problem Solving: Choosing the right data structure simplifies problem-solving. For example, stacks are ideal for undo functionality in applications.\n",
        "4. Improved Performance: The efficiency of operations like searching, sorting, or inserting depends heavily on the choice of data structure.\n",
        "5. Real-World Applications: From managing user data in a web app to processing large datasets in machine learning, data structures are integral to software systems."
      ],
      "metadata": {
        "id": "JSndQayOwJP5"
      }
    },
    {
      "cell_type": "markdown",
      "source": [
        "##Q 2. Explain the difference between mutable and immutable data types with examples.\n",
        "**Ans** - In Python, mutable and immutable refer to whether an object’s value can be changed after it is created.\n",
        "___\n",
        "\n",
        "**Mutable Data Types**\n",
        "* Mutable objects can be changed after creation. You can modify their content without creating a new object. Examples: Lists, dictionaries, sets."
      ],
      "metadata": {
        "id": "UtS8DYifPgd2"
      }
    },
    {
      "cell_type": "markdown",
      "source": [
        "___\n",
        "**Immutable Data Types**\n",
        "* Immutable objects cannot be changed after creation. Any operation that modifies the value will create a new object. Examples: Strings, tuples, integers, floats, and frozensets."
      ],
      "metadata": {
        "id": "JiUK6AQ20OQy"
      }
    },
    {
      "cell_type": "markdown",
      "source": [
        "___\n",
        "**Comparison of Behavior**\n",
        "\n",
        "|     Feature       |         Mutable          |         Immutable       |\n",
        "|-------------------|--------------------------|-------------------------|\n",
        "| Modifiability     | Can be modified in place | Cannot be modified      |\n",
        "| Examples          | Lists, dicts, sets       | Tuples, strings, ints   |\n",
        "| Memory Efficiency | Uses same memory         | Creates new memory      |\n",
        "| Suitability       | Dynamic data structures  | Fixed/unchanging values |"
      ],
      "metadata": {
        "id": "g9TOjw6o0vZK"
      }
    },
    {
      "cell_type": "markdown",
      "source": [
        "##Q 3. what are the main difference between lists and tuples in python?\n",
        "**Ans** - Lists and tuples are both sequence data types in Python used to store collections of items. However, they have key differences that determine their usage and behavior.\n",
        "___\n",
        "1. Mutability\n",
        "* Lists: Mutable; their elements can be changed after the list is created\n",
        "* Tuples: Immutable; their elements cannot be changed once the tuple is created.\n",
        "2. Syntax\n",
        "* Lists: Defined using square brackets [ ]\n",
        "* Tuples: Defined using parentheses ( )\n",
        "3. Performance\n",
        "* Lists: Slower compared to tuples because they are mutable and require extra memory for dynamic resizing.\n",
        "* Tuples: Faster than lists due to their immutability, making them more memory-efficient and ideal for fixed collections.\n",
        "4. Use Cases\n",
        "* Lists: Used when you need a dynamic collection where elements may change, grow, or shrink.\n",
        "* Tuples: Used for fixed collections of items or to represent unchangeable data, such as coordinates or configuration settings.\n",
        "5. Methods and Operations\n",
        "* Lists: Have a wide variety of built-in methods to modify and manage their contents (e.g., append, remove, sort).\n",
        "* Tuples: Have fewer methods since they are immutable (e.g., count, index)\n",
        "6. Memory Usage\n",
        "* Lists: Require more memory due to dynamic resizing and mutable nature.\n",
        "* Tuples: Require less memory and are often preferred for constant data."
      ],
      "metadata": {
        "id": "aOg9aIneshFX"
      }
    },
    {
      "cell_type": "markdown",
      "source": [
        "##Q 4.describe how dictionaries store data in python\n",
        "**Ans** - Dictionaries in Python store data as key-value pairs, allowing for efficient retrieval, insertion, and deletion. dictionaries works in following way - By leveraging hashing and efficient memory management, Python dictionaries provide a fast and flexible data structure for key-value storage.\n",
        "\n",
        "1. Structure\n",
        "A dictionary is essentially a hash table implementation in Python.\n",
        "Each key-value pair consists of:\n",
        "* Key: A unique identifier (must be immutable and hashable, e.g., strings, numbers, or tuples with immutable elements).\n",
        "* Value: The data associated with the key (can be of any type).\n",
        "2. Hashing\n",
        "* Hash Function: When a key is added to a dictionary, Python calculates a hash value for the key using a built-in hash function (hash()).\n",
        "This hash value determines where in the hash table the key-value pair will be stored.\n",
        "3. Buckets\n",
        "* The dictionary's underlying structure contains multiple buckets, which are essentially slots to store key-value pairs.\n",
        "A hash value maps a key to a specific bucket.\n",
        "4. Collision Handling\n",
        "* Collisions occur when two keys produce the same hash value.\n",
        "* Python handles collisions using open addressing or chaining mechanisms internally.\n",
        "* For open addressing, Python may probe for the next available bucket.\n",
        "* For chaining, it links multiple values in the same bucket (though Python typically avoids direct chaining).\n",
        "5. Performance\n",
        "* Average Case: Dictionary operations (e.g., insert, delete, retrieve) have an average time complexity of 𝑂(1), assuming minimal collisions.\n",
        "Worst Case: In case of excessive collisions, operations can degrade to 𝑂(𝑛), though Python's implementation is highly optimized to prevent this.\n",
        "6. Resizing When a dictionary becomes too full (load factor exceeds a threshold), Python resizes the hash table.\n",
        "Resizing involves creating a new, larger hash table and rehashing all the keys, which ensures efficient performance."
      ],
      "metadata": {
        "id": "vk8IesGb79la"
      }
    },
    {
      "cell_type": "markdown",
      "source": [
        "##Q 5. why might you use a set instead of a list in python?\n",
        "**Ans** - we might use a set instead of a list in Python for specific use cases where the unique characteristics and performance advantages of sets are beneficial.\n",
        "\n",
        "1. Enforcing Uniqueness\n",
        "\n",
        "* Set: Automatically removes duplicate elements.\n",
        "* List: Allows duplicate elements.\n",
        "Use a set when you need a collection of unique elements without duplicates.\n"
      ],
      "metadata": {
        "id": "yzlARMxmlS1n"
      }
    },
    {
      "cell_type": "code",
      "source": [
        "data = [1, 2, 2, 3, 4, 4]\n",
        "unique_data = set(data)\n",
        "print(unique_data)"
      ],
      "metadata": {
        "id": "nER0DeJAmE3Z"
      },
      "execution_count": null,
      "outputs": []
    },
    {
      "cell_type": "markdown",
      "source": [
        "2. Faster Membership Testing\n",
        "* Set: Membership checks (e.g., x in set) are much faster, with an average time complexity of 𝑂(1), due to hashing.\n",
        "* List: Membership checks require a linear search, with a time complexity of 𝑂(𝑛).\n",
        "Use a set when you frequently check if an element exists in a collection.\n"
      ],
      "metadata": {
        "id": "eIBgu3hEmGuv"
      }
    },
    {
      "cell_type": "code",
      "source": [
        "my_set = {1, 2, 3, 4}\n",
        "print(3 in my_set)"
      ],
      "metadata": {
        "id": "UN9wlyiYmKUQ"
      },
      "execution_count": null,
      "outputs": []
    },
    {
      "cell_type": "markdown",
      "source": [
        "3. Set Operations\n",
        "* Sets support efficient mathematical operations like union, intersection, difference, and symmetric difference, which are either unavailable or cumbersome with lists.\n",
        "* Use a set when you need to perform these operations on collections."
      ],
      "metadata": {
        "id": "MhOwW7lTmM64"
      }
    },
    {
      "cell_type": "code",
      "source": [
        "set_a = {1, 2, 3}\n",
        "set_b = {3, 4, 5}\n",
        "print(set_a | set_b)\n",
        "print(set_a & set_b)\n",
        "print(set_a - set_b)"
      ],
      "metadata": {
        "id": "54LYRcYWmP0o"
      },
      "execution_count": null,
      "outputs": []
    },
    {
      "cell_type": "markdown",
      "source": [
        "4. Performance\n",
        "* Set: Optimized for insertion, deletion, and lookup operations.\n",
        "* List: More suitable for ordered collections and frequent index-based access.\n",
        "Use a set for collections where performance for these operations is critical.\n",
        "5. Semantic Clarity\n",
        "* A set makes the intent of your code clearer when you want a collection of unique items or need to perform set operations.\n",
        "* Use a set for readability when the uniqueness of elements matters.\n",
        "  * When to Use a List Instead\n",
        "  * When order matters.\n",
        "  * When we need to allow duplicates.\n",
        "  * When we frequently access elements by index.\n",
        "  * Example Comparison"
      ],
      "metadata": {
        "id": "CpWef3pamWJf"
      }
    },
    {
      "cell_type": "code",
      "source": [
        "numbers = [1, 2, 2, 3, 4]\n",
        "if 3 in numbers:\n",
        "    print(\"Found!\")\n",
        "unique_numbers = {1, 2, 3, 4}\n",
        "if 3 in unique_numbers:\n",
        "    print(\"Found!\")"
      ],
      "metadata": {
        "id": "sw3FPY3dmYsg"
      },
      "execution_count": null,
      "outputs": []
    },
    {
      "cell_type": "markdown",
      "source": [
        "##Q 6. what is a string in python, and how is it different from a list?\n",
        "**Ans** - A string in Python is a sequence of characters used to represent text. Strings are a specific data type and are defined using either single quotes (') or double quotes (\").\n",
        "\n",
        "**Characteristics of Strings**\n",
        "* Immutable: Once a string is created, it cannot be changed. Any operation that modifies a string creates a new string.\n",
        "* Sequence Type: Like lists, strings are ordered collections, so you can index, slice, and iterate through them.\n",
        "* Special Methods: Strings come with built-in methods for text manipulation, such as .split(), .join(), .upper(), .lower(), and .replace().\n",
        "\n",
        "**Differences Between Strings and Lists**\n",
        "\n",
        "|Aspect\t|String\t|List|\n",
        "|---|---|---|\n",
        "|Data Type\t|Represents text (characters).\t|Represents a collection of any data type.|\n",
        "|Mutability\t|Immutable (cannot be changed).\t|Mutable (can be changed).|\n",
        "|Elements\t|Each element is a single character.|\tEach element can be any Python object.|\n",
        "|Operations\t|Optimized for text manipulation.\t|Optimized for generic collections.|\n",
        "|Syntax\t|Defined with quotes ('hello').|\tDefined with square brackets ([1, 2, 3]).|\n",
        "|Usage\t|Best for representing and manipulating text.|\tBest for collections of heterogeneous data.|\n",
        "|Similarities |Between Strings and Lists| Both support indexing and slicing|"
      ],
      "metadata": {
        "id": "NfAl5iYKmcKg"
      }
    },
    {
      "cell_type": "markdown",
      "source": [
        "##Q 7. how do tuples ensure data integrity in python?\n",
        "**Ans** - Tuples in Python help ensure data integrity due to their key characteristic: immutability. Once a tuple is created, its elements cannot be modified, added, or removed. This makes tuples an excellent choice when you need to store a collection of values that should remain constant throughout the program.\n",
        "\n",
        "**Tuples Ensure Data Integrity**\n",
        "* Immutability - Since tuples are immutable, the data they store cannot be changed after creation. This ensures that the data remains consistent and prevents accidental modification.\n",
        "Example -"
      ],
      "metadata": {
        "id": "Yg1HQPjhsW9E"
      }
    },
    {
      "cell_type": "code",
      "source": [
        "dimensions = (1920, 1080)"
      ],
      "metadata": {
        "id": "KtEhKzaGszf4"
      },
      "execution_count": null,
      "outputs": []
    },
    {
      "cell_type": "markdown",
      "source": [
        "* Predictability - Immutability makes tuples predictable because their contents will always remain the same, providing confidence in the stability of the data.\n",
        "* Hashability - Tuples, when containing only immutable elements, are hashable. This allows them to be used as keys in dictionaries or elements in sets, ensuring that the data they represent remains unchanged and unique in such contexts.\n",
        "Example -"
      ],
      "metadata": {
        "id": "IwO-nRaOs2_5"
      }
    },
    {
      "cell_type": "code",
      "source": [
        "coords = {(10, 20): \"point A\", (30, 40): \"point B\"}\n",
        "print(coords[(10, 20)])"
      ],
      "metadata": {
        "id": "EmKXsclIs4LZ"
      },
      "execution_count": null,
      "outputs": []
    },
    {
      "cell_type": "markdown",
      "source": [
        "* Suitability for Fixed Data - Tuples are ideal for representing structured, unchanging datasets like coordinates, RGB values, or configurations. This aligns well with data integrity requirements.\n",
        "Example -"
      ],
      "metadata": {
        "id": "OXOWRgmCs8lQ"
      }
    },
    {
      "cell_type": "code",
      "source": [
        "rgb_color = (255, 255, 0)"
      ],
      "metadata": {
        "id": "bAMOfieIs9nY"
      },
      "execution_count": null,
      "outputs": []
    },
    {
      "cell_type": "markdown",
      "source": [
        "* Prevention of Side Effects - By using tuples, you avoid unintended side effects caused by modifying the collection in-place, which can happen with mutable data types like lists.\n",
        "* Encapsulation of Logic - Tuples can be used to group related pieces of data together into a single, unchangeable entity, ensuring that these values are always treated as a unit.\n",
        "Example -"
      ],
      "metadata": {
        "id": "Dz3NuNE4tCGw"
      }
    },
    {
      "cell_type": "code",
      "source": [
        "student = (\"Alice\", 21, \"Physics\")"
      ],
      "metadata": {
        "id": "T1QS9EVjtEL4"
      },
      "execution_count": null,
      "outputs": []
    },
    {
      "cell_type": "markdown",
      "source": [
        "##Q 8. what is a hash table, and how does it relate to dictionaries in python?\n",
        "**Ans** - A hash table is a data structure that provides an efficient way to store and retrieve data based on key-value pairs. It works by using a hash function to compute an index (or \"hash code\") for a given key, and then mapping the key to a value at that index in an array-like structure.\n",
        "\n",
        "**Key Characteristics of a Hash Table:**\n",
        "* Key-Value Pairs: Data is stored as a pair of keys and their corresponding values.\n",
        "* Hash Function: Converts the key into a hash code, which determines where the data is stored.\n",
        "* Collision Handling: When two keys produce the same hash code, techniques like chaining (linked lists) or open addressing (probing) resolve the conflict.\n",
        "* Efficiency: Offers average time complexity of 𝑂(1) for insertions, deletions, and lookups, though worst-case can degrade to 𝑂(𝑛) with poor hashing or many collisions.\n",
        "\n",
        "Python Dictionaries and Hash Tables\n",
        "In Python, a dictionary (dict) is a built-in data type that is implemented using a hash table. Here's how they relate:\n",
        "1. Storage: Python dictionaries store key-value pairs internally in a hash table.\n",
        "The key is hashed using Python's built-in hash function (hash()), and the resulting hash code determines where the value is stored in memory.\n",
        "2. Performance: Lookups, insertions, and deletions in a dictionary are very fast (𝑂(1) on average) because they rely on the underlying hash table.\n",
        "3. Key Requirements: Keys must be hashable: Their hash code should not change during their lifetime.\n",
        "Immutable types like strings, numbers, and tuples are hashable, but mutable types like lists and dictionaries are not.\n",
        "4. Collisions: Python handles hash collisions internally using techniques like open addressing."
      ],
      "metadata": {
        "id": "YLwtiocQtI_B"
      }
    },
    {
      "cell_type": "markdown",
      "source": [
        "## Q9. can lists contain different data types in python?\n",
        "**Ans** -Yes, lists in Python can contain elements of different data types. This flexibility is one of the features that makes Python lists powerful and versatile.\n",
        "\n",
        "**Key Characteristics of Lists in Python**:\n",
        "1. Heterogeneous Elements:\n",
        "* Python lists can store elements of any type, including integers, floats, strings, booleans, other lists, tuples, dictionaries, and even custom objects.\n",
        "2. Dynamic Typing:\n",
        "* Python is dynamically typed, so the type of an object in a list is not fixed and can vary.\n",
        "3. Nested Data:\n",
        "* Lists can contain other lists (or other data structures like dictionaries and tuples), enabling the creation of complex, nested data structures.\n",
        "4. Flexibility:\n",
        "* A list can even mix mutable and immutable objects:\n",
        "\n",
        "**Practical Applications**\n",
        "* Data Aggregation: Lists are commonly used to group data of varying types in a single collection for processing or analysis.\n",
        "* Complex Structures: You can use lists as part of a more complex structure that combines multiple data types."
      ],
      "metadata": {
        "id": "X8JWt5mityKR"
      }
    },
    {
      "cell_type": "markdown",
      "source": [
        "##Q10 . explain why strings are immutable in python?\n",
        "**Ans** - Strings are immutable in Python, meaning their content cannot be changed after they are created. This immutability is a deliberate design choice that provides several advantages in terms of performance, security, and consistency. Here's a detailed explanation:\n",
        "\n",
        "**Strings Are Immutable in Python for following reasons**\n",
        "1. Memory Optimization\n",
        "* Python employs string interning, which means identical string literals may share the same memory space.\n",
        "* If strings were mutable, changing one would inadvertently modify others sharing the same memory, causing unintended side effects.\n",
        "2. Hashability and Dictionary Keys\n",
        "* Strings are hashable, meaning their hash value (computed using hash()) remains constant throughout their lifetime.\n",
        "* This makes strings usable as keys in dictionaries and elements in sets.\n",
        "* If strings were mutable, modifying them would change their hash value, breaking dictionary and set behavior.\n",
        "3. Consistency and Thread Safety\n",
        "* Immutability makes strings inherently thread-safe because their state cannot be changed, even when accessed by multiple threads simultaneously.\n",
        "This ensures predictable behavior in concurrent programming.\n",
        "4. Performance Benefits\n",
        "* Immutability allows Python to optimize memory usage and performance by reusing existing strings rather than creating new ones each time.\n",
        "* For example, the compiler can safely reuse strings across the program.\n",
        "5. Simplicity and Security\n",
        "* Immutable strings simplify programming by avoiding accidental modifications.\n",
        "* Immutability also prevents malicious or accidental changes to sensitive string data, such as passwords or keys, after creation."
      ],
      "metadata": {
        "id": "kwVdR4UruZrP"
      }
    },
    {
      "cell_type": "markdown",
      "source": [
        "##Q 11. what advantages do dictionaries offer over lists for certain tasks?\n",
        "**Ans** -Dictionaries in Python offer several advantages over lists for certain tasks, particularly when working with key-value pairs and needing efficient lookups. Here's a breakdown of why you might choose dictionaries over lists in specific scenarios:\n",
        "\n",
        "1. Fast Lookups (O(1) Average Time Complexity)\n",
        "* Dictionaries: Provide constant-time average performance for lookups by key, thanks to their hash table implementation.\n",
        "* Lists: Require linear search (𝑂(𝑛)) to find an item, as elements must be traversed sequentially.\n",
        "2. Key-Value Pair Storage\n",
        "* Dictionaries: Designed for storing and managing data as key-value pairs. Each key uniquely identifies a value.\n",
        "* Lists: Require you to manually pair keys and values, often using tuples or nested lists, which is less efficient and more error-prone.\n",
        "3. No Need to Maintain Order (Pre-Python 3.7)\n",
        "* Dictionaries: In Python 3.7 and later, dictionaries maintain insertion order, but even before that, they didn't guarantee order and focused on efficient access.\n",
        "* Lists: Suitable for ordered collections where order is important.\n",
        "If order is unnecessary, dictionaries are often more straightforward and faster for many tasks.\n",
        "4. Unique Keys\n",
        "* Dictionaries: Automatically ensure that keys are unique, overwriting values if a duplicate key is added.\n",
        "* Lists: Require additional logic to prevent duplicates when pairing keys with values.\n",
        "5. Readability and Simplicity\n",
        "* Dictionaries: Code involving dictionaries is often more readable and intuitive when dealing with mappings.\n",
        "* Lists: Representing mappings with lists can make code harder to understand and maintain."
      ],
      "metadata": {
        "id": "wOuApBbKvAMJ"
      }
    },
    {
      "cell_type": "markdown",
      "source": [
        "##Q 12. describe a scenario where using a tuple would be preferable over a list?\n",
        "**Ans** - Using a tuple is preferable over a list in Python when you need an immutable sequence of elements, meaning the elements cannot be changed after the tuple is created. Here are some specific scenarios where tuples are advantageous:\n",
        "\n",
        "**1. Fixed Data that Shouldn't Change**\n",
        "\n",
        "If you have a collection of items that represent a fixed structure (like coordinates, RGB color values, or configuration constants), tuples ensure the data remains unaltered.\n",
        "\n",
        "**2. Keys for a Dictionary**\n",
        "\n",
        "Since tuples are hashable (if they contain only hashable elements) and immutable, they can be used as keys in a dictionary, whereas lists cannot.\n",
        "\n",
        "**3. Return Multiple Values from a Function**\n",
        "\n",
        "Tuples are commonly used for returning multiple values from a function because they indicate that the returned structure is fixed.\n",
        "\n",
        "**4. Saving Memory**\n",
        "\n",
        "Tuples are more memory-efficient than lists because they are immutable and have a smaller memory footprint. If you have a large number of read-only sequences, using tuples can save memory.\n",
        "\n",
        "**5. Immutable Collections in Sets**\n",
        "\n",
        "Tuples allow you to store collections of values in a set, which requires elements to be hashable and immutable.\n",
        "\n",
        "**6. Semantic Clarity**\n",
        "\n",
        "Tuples convey that the data is fixed and not meant to be modified. This makes the code's intent clearer to others."
      ],
      "metadata": {
        "id": "lxGsimRPwRKg"
      }
    },
    {
      "cell_type": "markdown",
      "source": [
        "**When to Use Tuples Over Lists**\n",
        "\n",
        "|Use Case\t|Prefer Tuples\t|Prefer Lists|\n",
        "|---|---|---|\n",
        "|Fixed, unchanging data\t|Yes\t|No|\n",
        "|Data used as dictionary keys\t|Yes\t|No (lists are unhashable)|\n",
        "|Ordered, homogeneous collection\t|No\t|Yes|\n",
        "|Modifiable data\t|No\t|Yes|"
      ],
      "metadata": {
        "id": "Y51BM-ycxCtg"
      }
    },
    {
      "cell_type": "markdown",
      "source": [
        "##Q 13. how does sets handle duplicate values in python?\n",
        "**Ans** - In Python, sets automatically eliminate duplicate values. A set is a collection type designed to store unique elements, ensuring that each element appears only once. Here's how sets handle duplicates:\n",
        "\n",
        "1. Duplicate Removal\n",
        "* When a set is created, or elements are added to it, Python automatically filters out duplicates. This behavior is inherent to the data structure.\n",
        "* Example:"
      ],
      "metadata": {
        "id": "tEWPjc6qzZH0"
      }
    },
    {
      "cell_type": "code",
      "source": [
        "numbers = {1, 2, 2, 3, 4, 4, 4, 5}\n",
        "print(numbers)"
      ],
      "metadata": {
        "id": "UvD-4wztzrUh"
      },
      "execution_count": null,
      "outputs": []
    },
    {
      "cell_type": "markdown",
      "source": [
        "**2. When Adding New Elements**\n",
        "* If you try to add an element that already exists in the set, Python will ignore it, and the set remains unchanged.\n",
        "* Example:"
      ],
      "metadata": {
        "id": "L_Q6_Dk-zsqP"
      }
    },
    {
      "cell_type": "code",
      "source": [
        "my_set = {1, 2, 3}\n",
        "my_set.add(2)\n",
        "print(my_set)"
      ],
      "metadata": {
        "id": "h7-v3LrAzwQO"
      },
      "execution_count": null,
      "outputs": []
    },
    {
      "cell_type": "markdown",
      "source": [
        "**3. Internally Ensuring Uniqueness**\n",
        "* Sets use a hash table internally to store elements. When an element is added, its hash value is computed, and Python checks if an element with the same hash already exists.\n",
        "* If a duplicate is found (i.e., an element with the same hash and equality as the new one), the new element is not added.\n",
        "___\n",
        "**4. Creation from Other Collections**\n",
        "* When you create a set from a list or another iterable, all duplicates are removed automatically.\n",
        "* Example:"
      ],
      "metadata": {
        "id": "gxltYue2zxwf"
      }
    },
    {
      "cell_type": "code",
      "source": [
        "my_list = [1, 2, 2, 3, 4, 4, 5]\n",
        "my_set = set(my_list)\n",
        "print(my_set)"
      ],
      "metadata": {
        "id": "tUbT_gNIz1FI"
      },
      "execution_count": null,
      "outputs": []
    },
    {
      "cell_type": "markdown",
      "source": [
        "___\n",
        "5. Case of Mutable Elements\n",
        "* Only immutable elements (e.g., numbers, strings, tuples) can be added to a set because they are hashable. Mutability would prevent consistent hash values and introduce ambiguity in determining duplicates.\n",
        "* Example:"
      ],
      "metadata": {
        "id": "LbKpxtZWz1x_"
      }
    },
    {
      "cell_type": "code",
      "source": [
        "my_set = {1, \"hello\", (2, 3)}"
      ],
      "metadata": {
        "id": "CN8jwEhVz7CX"
      },
      "execution_count": null,
      "outputs": []
    },
    {
      "cell_type": "markdown",
      "source": [
        "**Advantages of Duplicate Handling**\n",
        "* Efficient Data Cleaning: Sets are useful for removing duplicates from collections like lists."
      ],
      "metadata": {
        "id": "bFOo7DANz74v"
      }
    },
    {
      "cell_type": "code",
      "source": [
        "data = [1, 2, 2, 3, 4, 4, 5]\n",
        "unique_data = list(set(data))\n",
        "print(unique_data)"
      ],
      "metadata": {
        "id": "hUn-mehXz_Y4"
      },
      "execution_count": null,
      "outputs": []
    },
    {
      "cell_type": "markdown",
      "source": [
        "* Simplified Membership Checks: Ensuring uniqueness prevents ambiguity in operations like membership tests (in).\n",
        "___\n",
        "**Key Takeaways**\n",
        "* Sets automatically discard duplicate elements during creation or addition.\n",
        "* They rely on hash values to determine whether an element is already in the set.\n",
        "* This makes sets a powerful tool for ensuring uniqueness in collections and simplifying tasks like data deduplication."
      ],
      "metadata": {
        "id": "C1rSqTfv0ABo"
      }
    },
    {
      "cell_type": "markdown",
      "source": [
        "##Q 14. how does the \"in\" keyword work differently for list and dictionaries?\n",
        "**Ans** - The 'in' keyword in Python is used to check whether an element exists in a collection. It behaves differently for lists and dictionaries due to the structure and nature of these data types.\n",
        "\n",
        "**1. Using 'in' with Lists**\n",
        "\n",
        "When we use 'in' with a list, it checks if the element exists in the list, meaning it looks for the exact value in the list. The operation has a time complexity of 𝑂(𝑛), where 𝑛 is the length of the list, because it may need to check each element one by one."
      ],
      "metadata": {
        "id": "TR9Redrc0HAO"
      }
    },
    {
      "cell_type": "markdown",
      "source": [
        "**2. Using 'in' with Dictionaries**\n",
        "\n",
        "When we use 'in' with a dictionary, the behavior is different. By default, 'in' checks if the key exists in the dictionary, not the value."
      ],
      "metadata": {
        "id": "aRSRv89a0RIR"
      }
    },
    {
      "cell_type": "markdown",
      "source": [
        "**3. Checking for Values in a Dictionary**\n",
        "\n",
        "If we want to check whether a value exists in a dictionary, we need to explicitly check in the 'values()' view of the dictionary."
      ],
      "metadata": {
        "id": "zFqkfZk90WVn"
      }
    },
    {
      "cell_type": "code",
      "source": [
        "my_dict = {\"name\": \"Alice\", \"age\": 30, \"city\": \"New York\"}\n",
        "print(\"Alice\" in my_dict.values())\n",
        "print(30 in my_dict.values())"
      ],
      "metadata": {
        "id": "WOdiXnfR0azU"
      },
      "execution_count": null,
      "outputs": []
    },
    {
      "cell_type": "markdown",
      "source": [
        "|Collection|Operation (in)|Time Complexity|\n",
        "|-----|------|-----|\n",
        "|List\t|Checks for the presence of the value\t| 𝑂(𝑛)|\n",
        "|Dictionary\t|Checks for the presence of the key\t| 𝑂(1)(average) |\n",
        "|Dictionary (values) | Checks for the presence of the value\t| 𝑂(𝑛)|"
      ],
      "metadata": {
        "id": "ivXzaIqo0fb0"
      }
    },
    {
      "cell_type": "markdown",
      "source": [
        "##Q 15. can you modify the elements of a tuple? explain why or why not.\n",
        "**Ans** - No, we cannot modify the elements of a tuple in Python after it has been created. This is because tuples are immutable.\n",
        "\n",
        "**Tuples are Immutable for following reasons**\n",
        "1. Immutability of Tuples:\n",
        "  * Once a tuple is created, its contents cannot be changed, added to, or removed. This ensures that the data in the tuple remains consistent throughout its lifetime.\n",
        "  * The immutability of tuples is a core feature that helps to preserve data integrity and avoid accidental modifications.\n",
        "2. Underlying Design Philosophy:\n",
        "  * Tuples are designed to represent fixed, unchangeable data. They are often used for storing collections of data that should remain constant, such as coordinate pairs, dates, or other types of structured data.\n",
        "  * This design encourages predictable behavior and makes tuples useful in situations where you need to protect data from modification."
      ],
      "metadata": {
        "id": "miaKJqUA0ga_"
      }
    },
    {
      "cell_type": "markdown",
      "source": [
        "## Q 16. What is a nested dictionary, and give an example of its use case?\n",
        "**Ans** - A nested dictionary in Python is a dictionary where the values themselves are dictionaries. This structure allows you to represent hierarchical or multi-level data where each key can map to another dictionary containing more key-value pairs. It provides a way to store complex data in a structured format.\n",
        "\n",
        "**Example of a Nested Dictionary**\n",
        "\n",
        "Here’s an example of a nested dictionary that represents the contact information for multiple people:"
      ],
      "metadata": {
        "id": "s1bwhgW01CHy"
      }
    },
    {
      "cell_type": "code",
      "source": [
        "contacts = {\n",
        "    \"Vivek\": {\n",
        "        \"phone\": \"1234567890\",\n",
        "        \"email\": \"vivek@gmail.com\",\n",
        "        \"address\": \"dhanbad, Jharkhand\"\n",
        "    },\n",
        "    \"Kumar\": {\n",
        "        \"phone\": \"9876543210\",\n",
        "        \"email\": \"kumar@gmail.com\",\n",
        "        \"address\": \"dhanbad, Jharkhand\"\n",
        "    },\n",
        "    \"Physics\": {\n",
        "        \"phone\": \"5551234567\",\n",
        "        \"email\": \"physics@gmail.com\",\n",
        "        \"address\": \"dhanbad, Jharkhand\"\n",
        "    }\n",
        "}\n",
        "print(contacts[\"Vivek\"][\"phone\"])\n",
        "print(contacts[\"Kumar\"][\"email\"])\n",
        "print(contacts[\"Physics\"][\"address\"])"
      ],
      "metadata": {
        "id": "q_TGdkEQ1O15"
      },
      "execution_count": null,
      "outputs": []
    },
    {
      "cell_type": "markdown",
      "source": [
        "**Advantages of Using Nested Dictionaries**\n",
        "1. Hierarchical Structure:\n",
        "  * Nested dictionaries allow us to represent real-world hierarchical data, such as family structures, organizational charts, or product catalogs.\n",
        "2. Flexibility:\n",
        "  * we can nest as many dictionaries as needed, allowing complex structures to be created with various levels of detail.\n",
        "3. Efficient Data Retrieval:\n",
        "  * Using nested dictionaries allows us to quickly access deeply nested data without unnecessary loops or conditionals.\n",
        "\n",
        "A nested dictionary is a powerful tool for organizing complex data in Python. It allows you to represent multi-level data in a straightforward and flexible manner. Common use cases include modeling real-world objects (e.g., students, employees) with multiple attributes, where each attribute can itself contain other attributes or values."
      ],
      "metadata": {
        "id": "2dkqIJR81oV-"
      }
    },
    {
      "cell_type": "markdown",
      "source": [
        "##Q 17. Describe the time complexity of accessing elements in a dictionary.\n",
        "**Ans** - The time complexity of accessing elements in a dictionary in Python is generally O(1), which means it is constant time. This efficiency is due to the way dictionaries are implemented using a hash table under the hood.\n",
        "It works in following way:\n",
        "* Key Hashing: When you access an element using a key, Python computes the hash of the key using a hash function.\n",
        "* Indexing: The hash value is used to determine the index where the value associated with the key is stored in the dictionary's underlying array.\n",
        "* Retrieval: The value is retrieved directly from that index.\n",
        "Factors That Can Affect Time Complexity While the average-case time complexity is 𝑂(1).\n",
        "* Hash Collisions: If multiple keys hash to the same index (a hash collision), Python resolves this by chaining or using open addressing. Accessing the desired value in such cases may involve searching through a short list or sequence, which can lead to a worst-case time complexity of 𝑂(𝑛), where 𝑛\n",
        "n is the number of elements in the dictionary.\n",
        "* Resizing: When the dictionary grows beyond its current capacity, it needs to resize its internal structure, which involves rehashing all existing keys. This resizing process is costly but infrequent, making the amortized cost of dictionary operations still 𝑂(1)."
      ],
      "metadata": {
        "id": "97rryeS91rXi"
      }
    },
    {
      "cell_type": "markdown",
      "source": [
        "##18 . In what situations are lists preferred over dictionaries?\n",
        "**Ans** - In Python, lists and dictionaries are both versatile data structures, but they are suited to different types of tasks based on their characteristics. Lists are preferred over dictionaries in situations where:\n",
        "\n",
        "**1. Ordered Data**\n",
        "* Lists maintain the order of elements, whereas dictionaries maintain insertion order but are primarily designed to map keys to values. If the primary concern is maintaining and accessing elements in a specific order, a list is the better choice.\n",
        "\n",
        "**2. Indexed Access**\n",
        "* Lists allow integer indexing, which makes them ideal when we need to retrieve elements by their index in a sequential manner. we can directly access an element using its index.\n",
        "\n",
        "**3. Homogeneous Data**\n",
        "* Lists are generally more useful when we have sequences of homogeneous data, especially when the order is important, and the items are related in some way.\n",
        "\n",
        "  **4. When we Need to Perform List Operations**\n",
        "* Lists support a variety of operations like slicing, appending, extending, and modifying elements directly by index. These operations are efficient and straightforward when working with lists.\n",
        "\n",
        "**5. When we do not need Key-Value pairs**\n",
        "* Dictionaries are built to store key-value pairs, so they are less useful when we simply need a collection of values without needing to associate each value with a key. Lists, on the other hand, are perfect for storing a collection of items without any associated keys.\n",
        "\n",
        "**6. Small to Moderate-sized Data**\n",
        "* Lists are generally more efficient than dictionaries for small or moderate amounts of data, especially if you don't need the extra overhead of key-value mappings. If you are working with relatively small datasets where fast lookups by index aren't critical, lists may be more efficient in terms of both memory and performance.\n",
        "\n",
        "**7. When You Need to Use Sorting**\n",
        "* Lists can be sorted easily using the sorted() function or .sort() method, while dictionaries are not directly sortable (though you can sort based on keys or values, it requires additional steps)."
      ],
      "metadata": {
        "id": "DCbd10rn2Jmg"
      }
    },
    {
      "cell_type": "markdown",
      "source": [
        "| Use Case\t| Preferred Data Structure |\n",
        "|-----|-----|\n",
        "| Storing ordered data                    \t| List |\n",
        "| Accessing elements by index             \t| List |\n",
        "| Storing homogeneous data                \t| List |\n",
        "| Performing list operations                | List |\n",
        "| No need for key-value pairs\t              | List |\n",
        "| Working with small to moderate-sized data\t| List |\n",
        "| Sorting elements\t                        | List |"
      ],
      "metadata": {
        "id": "DVI4FEYi22Or"
      }
    },
    {
      "cell_type": "markdown",
      "source": [
        "##Q 19. why are dictionaries considered unordered, and how does that affect data retrieval?\n",
        "**Ans** - Dictionaries in Python are considered unordered because they do not maintain the order of their elements based on how they were inserted. This means that dictionaries store data as key-value pairs, but the order in which these pairs are stored or retrieved is not guaranteed. However, dictionaries maintain the insertion order of keys, but this order is not part of the dictionary's fundamental behavior.\n",
        "\n",
        "**Dictionaries are considered unordered for following reasons**\n",
        "1. Internal Implementation (Hash Table):\n",
        "  * Python dictionaries are implemented using a hash table, which is designed to allow fast lookups by keys.\n",
        "  * In a hash table, the keys are hashed into an index that determines where the corresponding value will be stored in memory. This hashing process is primarily focused on fast access to values, not maintaining the order of the keys.\n",
        "2. Key-Value Pair Structure:\n",
        "  * The dictionary's primary function is to map unique keys to values, and it optimizes for quick lookup and efficient storage rather than ordering."
      ],
      "metadata": {
        "id": "73aCohDU252s"
      }
    },
    {
      "cell_type": "markdown",
      "source": [
        "## 20 . Explain the difference between a list and a dictionary in terms of data retrieval.\n",
        "**Ans** - The primary difference between a list and a dictionary in Python, when it comes to data retrieval, is how they access and organize their data.\n",
        "\n",
        "**1. Access Method**\n",
        "* List:\n",
        "  * A list is an ordered collection of elements, where each element is indexed by its position (integer index) in the list.\n",
        "  * Data retrieval is done by indexing (accessing by position).\n",
        "  * Lists are 0-indexed, so we access elements by specifying the index of the element we want.\n",
        "* Dictionary:\n",
        "  * A dictionary is an unordered collection of key-value pairs, where each key is unique and maps to a value.\n",
        "  * Data retrieval is done by key rather than an index.\n",
        "  * we access values by specifying the key associated with the value, not the position."
      ],
      "metadata": {
        "id": "oLSz8Gmp3hyv"
      }
    },
    {
      "cell_type": "markdown",
      "source": [
        "**2. Time Complexity of Retrieval**\n",
        "* List:\n",
        "  * O(1) for index-based retrieval.\n",
        "  * O(n) for searching an element.\n",
        "  * Example - Accessing the first element in a list is constant time (O(1)), but finding a specific element requires iterating through the list.\n",
        "* Dictionary:\n",
        "  * O(1) on average for key-based retrieval.\n",
        "  * O(n) for searching by value, since you would need to iterate through the dictionary values to find the corresponding key.\n",
        "  * Example: Retrieving a value by key is O(1) because dictionaries use hash tables to map keys to values."
      ],
      "metadata": {
        "id": "aN0y-LHK31tc"
      }
    },
    {
      "cell_type": "markdown",
      "source": [
        "**3. Order of Elements**\n",
        "* List:\n",
        "  * Lists are ordered collections.\n",
        "  * Data retrieval is based on position, so the order of elements matters when accessing elements by index.\n",
        "* Dictionary:\n",
        "  * Dictionaries are unordered collections.\n",
        "  * Data retrieval is done by key, not by order of insertion.\n",
        "  * we cannot retrieve elements by index in a dictionary. we need to know the key to access the corresponding value."
      ],
      "metadata": {
        "id": "fWtc5E3_3_4_"
      }
    },
    {
      "cell_type": "markdown",
      "source": [
        "**4. Use Case**\n",
        "* List:\n",
        "  * Lists are ideal when:\n",
        "    * we need to access elements by index or maintain the order of elements.\n",
        "    * The data does not have a meaningful key-value pair relationship.\n",
        "    * we want to store multiple values of the same type, like a collection of numbers, strings, or other objects.\n",
        "  * Example use case: Storing a list of students’ names.\n",
        "* Dictionary:\n",
        "  * Dictionaries are ideal when:\n",
        "    * we need to associate a unique key with each value.\n",
        "    * we want fast lookups by key.\n",
        "    * we need to represent key-value pairs, such as mapping a student's ID to their name or a country code to its country name.\n",
        "  * Example use case: Storing a mapping of usernames to user details or a lookup table for country codes."
      ],
      "metadata": {
        "id": "ciOiypP04L4g"
      }
    },
    {
      "cell_type": "markdown",
      "source": [
        "| Feature | List | Dictionary |\n",
        "|----------|--------|--------|\n",
        "| Access Method\t| Indexed by position (integer index)\t| Accessed by key |\n",
        "| Time Complexity\t| O(1) for index access, O(n) for value search\t| O(1) for key access, O(n) for value search |\n",
        "| Order of Elements\t| Ordered (based on index)\t| Unordered (but insertion order preserved in Python 3.7+) |\n",
        "| Typical Use Case\t| Ordered collection, index-based access\t| Key-value pairs, fast lookups by key |"
      ],
      "metadata": {
        "id": "fjwvuxFK4Umg"
      }
    },
    {
      "cell_type": "markdown",
      "source": [
        "#Practical Questions"
      ],
      "metadata": {
        "id": "96zwTiWlatts"
      }
    },
    {
      "cell_type": "markdown",
      "source": [
        "##Q 1. Write a code to create  a string with your name and print it?"
      ],
      "metadata": {
        "id": "ksUAadMEazGt"
      }
    },
    {
      "cell_type": "code",
      "source": [
        "name = \"ChatGPT\"\n",
        "print(name)"
      ],
      "metadata": {
        "id": "myiTE2fsbGUy",
        "colab": {
          "base_uri": "https://localhost:8080/"
        },
        "outputId": "e31c0c1c-04cf-4374-cb09-497d1e0b1769"
      },
      "execution_count": null,
      "outputs": [
        {
          "output_type": "stream",
          "name": "stdout",
          "text": [
            "ChatGPT\n"
          ]
        }
      ]
    },
    {
      "cell_type": "markdown",
      "source": [
        "##Q 2. write  a python code to find the length of the string \"Hello World\"."
      ],
      "metadata": {
        "id": "HFkGd8yKbIbo"
      }
    },
    {
      "cell_type": "code",
      "source": [
        "text = \"Hello World\"\n",
        "length = len(text)\n",
        "print(\"The length of the string is:\", length)"
      ],
      "metadata": {
        "id": "kamxiXwAbpSw",
        "colab": {
          "base_uri": "https://localhost:8080/"
        },
        "outputId": "cd7b661f-aaba-40b1-b14a-15f67c528c27"
      },
      "execution_count": null,
      "outputs": [
        {
          "output_type": "stream",
          "name": "stdout",
          "text": [
            "The length of the string is: 11\n"
          ]
        }
      ]
    },
    {
      "cell_type": "markdown",
      "source": [
        "##Q 3. write a python code to slice the first 3 characters from the string \"python programming\"."
      ],
      "metadata": {
        "id": "m4Xc_hocbr_S"
      }
    },
    {
      "cell_type": "code",
      "source": [
        "text = \"python programming\"\n",
        "sliced_text = text[:3]\n",
        "print(\"The first 3 characters are:\", sliced_text)"
      ],
      "metadata": {
        "id": "dqndnzGDcf5S",
        "colab": {
          "base_uri": "https://localhost:8080/"
        },
        "outputId": "a71da294-f025-499c-b374-2d96e8e5269b"
      },
      "execution_count": null,
      "outputs": [
        {
          "output_type": "stream",
          "name": "stdout",
          "text": [
            "The first 3 characters are: pyt\n"
          ]
        }
      ]
    },
    {
      "cell_type": "markdown",
      "source": [
        "## Q 4. write a python code to convert the string \"hello\" in uppercase."
      ],
      "metadata": {
        "id": "DOO3A9CYch-U"
      }
    },
    {
      "cell_type": "code",
      "source": [
        "text = \"hello\"\n",
        "uppercase_text = text.upper()\n",
        "print(\"The string in uppercase is:\", uppercase_text)"
      ],
      "metadata": {
        "id": "66DHsE8VkfKv",
        "colab": {
          "base_uri": "https://localhost:8080/"
        },
        "outputId": "96007718-a464-4ced-df2a-57e87fc7e5a9"
      },
      "execution_count": null,
      "outputs": [
        {
          "output_type": "stream",
          "name": "stdout",
          "text": [
            "The string in uppercase is: HELLO\n"
          ]
        }
      ]
    },
    {
      "cell_type": "markdown",
      "source": [
        "##Q 5. write a python code to replace the word \"apple\" and \" orange\" in the string \" i like apple\""
      ],
      "metadata": {
        "id": "WCsBvsiEkiGm"
      }
    },
    {
      "cell_type": "code",
      "source": [
        "text = \"I like apple\"\n",
        "updated_text = text.replace(\"apple\", \"orange\")\n",
        "print(\"Updated string:\", updated_text)"
      ],
      "metadata": {
        "id": "1Ji_1cAhkkAh",
        "colab": {
          "base_uri": "https://localhost:8080/"
        },
        "outputId": "eed2ad99-85ee-472b-ccd2-25ccff8cdc57"
      },
      "execution_count": null,
      "outputs": [
        {
          "output_type": "stream",
          "name": "stdout",
          "text": [
            "Updated string: I like orange\n"
          ]
        }
      ]
    },
    {
      "cell_type": "markdown",
      "source": [
        "##Q 6. write a python code to create a list with numbers 1 to 5 and print it."
      ],
      "metadata": {
        "id": "4TONSQOSkm2u"
      }
    },
    {
      "cell_type": "code",
      "source": [
        "numbers = [1, 2, 3, 4, 5]\n",
        "print(\"The list is:\", numbers)"
      ],
      "metadata": {
        "id": "qt58rzy2koAX",
        "colab": {
          "base_uri": "https://localhost:8080/"
        },
        "outputId": "95d859f1-231d-4dc2-a9bf-949c596a8a55"
      },
      "execution_count": null,
      "outputs": [
        {
          "output_type": "stream",
          "name": "stdout",
          "text": [
            "The list is: [1, 2, 3, 4, 5]\n"
          ]
        }
      ]
    },
    {
      "cell_type": "markdown",
      "source": [
        "##Q 7. write a python code to append the number 10 to the list [1,2,3,4]"
      ],
      "metadata": {
        "id": "_-rKklCQkm0n"
      }
    },
    {
      "cell_type": "code",
      "source": [
        "numbers = [1, 2, 3, 4]\n",
        "numbers.append(10)\n",
        "print(\"Updated list:\", numbers)"
      ],
      "metadata": {
        "id": "TZTM3yU9kuN3",
        "colab": {
          "base_uri": "https://localhost:8080/"
        },
        "outputId": "a0fbd340-ffd6-4509-974c-cdcde33fd735"
      },
      "execution_count": null,
      "outputs": [
        {
          "output_type": "stream",
          "name": "stdout",
          "text": [
            "Updated list: [1, 2, 3, 4, 10]\n"
          ]
        }
      ]
    },
    {
      "cell_type": "markdown",
      "source": [
        "##Q 8. write a python code  to remove the number 3 from the list [1,2,3,4,5]"
      ],
      "metadata": {
        "id": "Wda8MGZ2kxAH"
      }
    },
    {
      "cell_type": "code",
      "source": [
        "numbers = [1, 2, 3, 4, 5]\n",
        "numbers.remove(3)\n",
        "print(\"Updated list:\", numbers)"
      ],
      "metadata": {
        "id": "54a4TSGTkyWf",
        "colab": {
          "base_uri": "https://localhost:8080/"
        },
        "outputId": "e4ebaeb4-0365-40f6-8dd1-2aaf625d0548"
      },
      "execution_count": null,
      "outputs": [
        {
          "output_type": "stream",
          "name": "stdout",
          "text": [
            "Updated list: [1, 2, 4, 5]\n"
          ]
        }
      ]
    },
    {
      "cell_type": "markdown",
      "source": [
        "##Q 9. write a python code to access the second element in the list[a,b,c,d]"
      ],
      "metadata": {
        "id": "kfIwYNx_k09_"
      }
    },
    {
      "cell_type": "code",
      "source": [
        "letters = ['a', 'b', 'c', 'd']\n",
        "second_element = letters[1]\n",
        "print(\"The second element is:\", second_element)"
      ],
      "metadata": {
        "id": "T8j3noTWk2ee",
        "colab": {
          "base_uri": "https://localhost:8080/"
        },
        "outputId": "2fc55dbd-8340-480e-cb66-4f164533fb80"
      },
      "execution_count": null,
      "outputs": [
        {
          "output_type": "stream",
          "name": "stdout",
          "text": [
            "The second element is: b\n"
          ]
        }
      ]
    },
    {
      "cell_type": "markdown",
      "source": [
        "##Q 10. write a python code to reverse the list [10,20,30,40,50]"
      ],
      "metadata": {
        "id": "TqnFYe5rk5S4"
      }
    },
    {
      "cell_type": "code",
      "source": [
        "numbers = [10, 20, 30, 40, 50]\n",
        "numbers.reverse()\n",
        "print(\"Reversed list:\", numbers)"
      ],
      "metadata": {
        "id": "TAORVkJwk7-P",
        "colab": {
          "base_uri": "https://localhost:8080/"
        },
        "outputId": "066a27a9-54ea-42ac-9094-1a22a0a36fe9"
      },
      "execution_count": null,
      "outputs": [
        {
          "output_type": "stream",
          "name": "stdout",
          "text": [
            "Reversed list: [50, 40, 30, 20, 10]\n"
          ]
        }
      ]
    },
    {
      "cell_type": "markdown",
      "source": [
        "##Q 11. write a python code to create a tuple with the elements10,20,30 and print it"
      ],
      "metadata": {
        "id": "kWjlMgGJk-hn"
      }
    },
    {
      "cell_type": "code",
      "source": [
        "my_tuple = (10, 20, 30)\n",
        "print(\"The tuple is:\", my_tuple)"
      ],
      "metadata": {
        "id": "b2H0L5JdlAEX",
        "colab": {
          "base_uri": "https://localhost:8080/"
        },
        "outputId": "97c023a8-f368-4200-d630-71d1bd1f443c"
      },
      "execution_count": null,
      "outputs": [
        {
          "output_type": "stream",
          "name": "stdout",
          "text": [
            "The tuple is: (10, 20, 30)\n"
          ]
        }
      ]
    },
    {
      "cell_type": "markdown",
      "source": [
        "##Q 12. write a python code to access the first element of tuple ('apple', 'banana', 'cherry')\n",
        "\n"
      ],
      "metadata": {
        "id": "-6gZwcBBlCSw"
      }
    },
    {
      "cell_type": "code",
      "source": [
        "my_tuple = ('apple', 'banana', 'cherry')\n",
        "first_element = my_tuple[0]\n",
        "print(\"The first element is:\", first_element)"
      ],
      "metadata": {
        "id": "x31QR28qlEbX",
        "colab": {
          "base_uri": "https://localhost:8080/"
        },
        "outputId": "0bafcf8e-0040-484e-f012-c9c9a7bbf1c8"
      },
      "execution_count": null,
      "outputs": [
        {
          "output_type": "stream",
          "name": "stdout",
          "text": [
            "The first element is: apple\n"
          ]
        }
      ]
    },
    {
      "cell_type": "markdown",
      "source": [
        "##Q 13. write a python code to count how many times the number 2 appears in the tuple (1,2,3,2,4,2)"
      ],
      "metadata": {
        "id": "Vg5JT1sUlHSP"
      }
    },
    {
      "cell_type": "code",
      "source": [
        "my_tuple = (1, 2, 3, 2, 4, 2)\n",
        "count = my_tuple.count(2)\n",
        "print(\"The number 2 appears\", count, \"times in the tuple.\")"
      ],
      "metadata": {
        "id": "wvZUF4GtlIxv",
        "colab": {
          "base_uri": "https://localhost:8080/"
        },
        "outputId": "05dd6eab-7b7e-485d-89ea-c6fe47bd67bb"
      },
      "execution_count": null,
      "outputs": [
        {
          "output_type": "stream",
          "name": "stdout",
          "text": [
            "The number 2 appears 3 times in the tuple.\n"
          ]
        }
      ]
    },
    {
      "cell_type": "markdown",
      "source": [
        "##Q 14. write a python code to find the index of the element \"cat\" in the tuple ('dog', 'cat', 'rabbit')"
      ],
      "metadata": {
        "id": "70X0YPITlLD3"
      }
    },
    {
      "cell_type": "code",
      "source": [
        "my_tuple = ('dog', 'cat', 'rabbit')\n",
        "index = my_tuple.index('cat')\n",
        "print(\"The index of 'cat' is:\", index)"
      ],
      "metadata": {
        "id": "VB3rgU7xlMMn",
        "colab": {
          "base_uri": "https://localhost:8080/"
        },
        "outputId": "7b0d9967-0b3a-48ff-c7f0-05fda003fc97"
      },
      "execution_count": null,
      "outputs": [
        {
          "output_type": "stream",
          "name": "stdout",
          "text": [
            "The index of 'cat' is: 1\n"
          ]
        }
      ]
    },
    {
      "cell_type": "markdown",
      "source": [
        "##Q 15. write a python code  to check if the element \"banana\" is in the tuple ('apple',' banana', 'orange')\n",
        "\n"
      ],
      "metadata": {
        "id": "mrRWW5K3lOjf"
      }
    },
    {
      "cell_type": "code",
      "source": [
        "my_tuple = ('apple', 'banana', 'orange')\n",
        "if 'banana' in my_tuple:\n",
        "    print(\"'banana' is in the tuple.\")\n",
        "else:\n",
        "    print(\"'banana' is not in the tuple.\")"
      ],
      "metadata": {
        "id": "2M7mEP10lP-i",
        "colab": {
          "base_uri": "https://localhost:8080/"
        },
        "outputId": "caae5212-a226-4676-a223-7730d5f647c9"
      },
      "execution_count": null,
      "outputs": [
        {
          "output_type": "stream",
          "name": "stdout",
          "text": [
            "'banana' is in the tuple.\n"
          ]
        }
      ]
    },
    {
      "cell_type": "markdown",
      "source": [
        "##Q 16. write a python code to create a set with the elements 1,2,3,4,5 and print it.\n",
        "\n"
      ],
      "metadata": {
        "id": "8F82lrtIlSVP"
      }
    },
    {
      "cell_type": "code",
      "source": [
        "my_set = {1, 2, 3, 4, 5}\n",
        "print(\"The set is:\", my_set)"
      ],
      "metadata": {
        "id": "rAEJ8eMElT3-",
        "colab": {
          "base_uri": "https://localhost:8080/"
        },
        "outputId": "f8cb1b31-6a9b-45c1-9e4a-6b29dacfa4d8"
      },
      "execution_count": null,
      "outputs": [
        {
          "output_type": "stream",
          "name": "stdout",
          "text": [
            "The set is: {1, 2, 3, 4, 5}\n"
          ]
        }
      ]
    },
    {
      "cell_type": "markdown",
      "source": [
        "##Q 17. write a python code to add the element 6 to the set {1,2,3,4}"
      ],
      "metadata": {
        "id": "IvgO-wLWlWLW"
      }
    },
    {
      "cell_type": "code",
      "source": [
        "my_set = {1, 2, 3, 4}\n",
        "my_set.add(6)\n",
        "print(\"Updated set:\", my_set)"
      ],
      "metadata": {
        "id": "ahq9njb9lXJO",
        "colab": {
          "base_uri": "https://localhost:8080/"
        },
        "outputId": "39e29dd5-f65f-442a-c930-63dcecd6e4c5"
      },
      "execution_count": null,
      "outputs": [
        {
          "output_type": "stream",
          "name": "stdout",
          "text": [
            "Updated set: {1, 2, 3, 4, 6}\n"
          ]
        }
      ]
    },
    {
      "cell_type": "markdown",
      "source": [
        "##Q 18. write a python code to create a tuple with the elements 10,20,30 and print it"
      ],
      "metadata": {
        "id": "UG5c_TFUlaEY"
      }
    },
    {
      "cell_type": "code",
      "source": [
        "my_tuple = (10, 20, 30)\n",
        "print(\"The tuple is:\", my_tuple)"
      ],
      "metadata": {
        "id": "m1H1cVpelcJ_",
        "colab": {
          "base_uri": "https://localhost:8080/"
        },
        "outputId": "90490c64-db1d-4465-80ef-f791daccbbf2"
      },
      "execution_count": null,
      "outputs": [
        {
          "output_type": "stream",
          "name": "stdout",
          "text": [
            "The tuple is: (10, 20, 30)\n"
          ]
        }
      ]
    },
    {
      "cell_type": "markdown",
      "source": [
        "##Q 19. write a python code to access the first element of the tuple ('apple', 'banana', 'cherry')"
      ],
      "metadata": {
        "id": "EkWPiGCYleKn"
      }
    },
    {
      "cell_type": "code",
      "source": [
        "my_tuple = ('apple', 'banana', 'cherry')\n",
        "first_element = my_tuple[0]\n",
        "print(\"The first element is:\", first_element)"
      ],
      "metadata": {
        "id": "Dd_JbeyrlgsQ",
        "colab": {
          "base_uri": "https://localhost:8080/"
        },
        "outputId": "5dbedc22-4f44-4180-aed2-c579c9d85d36"
      },
      "execution_count": null,
      "outputs": [
        {
          "output_type": "stream",
          "name": "stdout",
          "text": [
            "The first element is: apple\n"
          ]
        }
      ]
    },
    {
      "cell_type": "markdown",
      "source": [
        "##Q 20. write a python code to count how many times the number 2 appears in the tuple (1,2,3,2,4,2)"
      ],
      "metadata": {
        "id": "YxCK9Il9lpiP"
      }
    },
    {
      "cell_type": "code",
      "source": [
        "my_tuple = (1, 2, 3, 2, 4, 2)\n",
        "count = my_tuple.count(2)\n",
        "print(\"The number 2 appears\", count, \"times in the tuple.\")"
      ],
      "metadata": {
        "id": "oeVBNqV2lqzX",
        "colab": {
          "base_uri": "https://localhost:8080/"
        },
        "outputId": "65f736ac-125e-4c76-f944-329106c92738"
      },
      "execution_count": null,
      "outputs": [
        {
          "output_type": "stream",
          "name": "stdout",
          "text": [
            "The number 2 appears 3 times in the tuple.\n"
          ]
        }
      ]
    },
    {
      "cell_type": "markdown",
      "source": [
        "##Q 21. write a python code to find the index of the element \"cat\" in the tuple ('dog', 'cat', 'rabbit')"
      ],
      "metadata": {
        "id": "jgpSWfvElu1_"
      }
    },
    {
      "cell_type": "code",
      "source": [
        "my_tuple = ('dog', 'cat', 'rabbit')\n",
        "index = my_tuple.index('cat')\n",
        "print(\"The index of 'cat' is:\", index)"
      ],
      "metadata": {
        "id": "MgDBJq8TlwDw",
        "colab": {
          "base_uri": "https://localhost:8080/"
        },
        "outputId": "d2cb7671-ae07-4566-dadc-42e45ccf38f3"
      },
      "execution_count": null,
      "outputs": [
        {
          "output_type": "stream",
          "name": "stdout",
          "text": [
            "The index of 'cat' is: 1\n"
          ]
        }
      ]
    },
    {
      "cell_type": "markdown",
      "source": [
        "##Q 22. write a python code  to check if the element \"banana\" is in the tuple ('apple',' banana', 'orange')"
      ],
      "metadata": {
        "id": "WzLTTEXOlymQ"
      }
    },
    {
      "cell_type": "code",
      "source": [
        "my_tuple = ('apple', 'banana', 'orange')\n",
        "if 'banana' in my_tuple:\n",
        "    print(\"'banana' is in the tuple.\")\n",
        "else:\n",
        "    print(\"'banana' is not in the tuple.\")"
      ],
      "metadata": {
        "id": "CtuWsMNbl50x",
        "colab": {
          "base_uri": "https://localhost:8080/"
        },
        "outputId": "2c13ac66-0dee-4a81-e50e-fe130009515d"
      },
      "execution_count": null,
      "outputs": [
        {
          "output_type": "stream",
          "name": "stdout",
          "text": [
            "'banana' is in the tuple.\n"
          ]
        }
      ]
    },
    {
      "cell_type": "markdown",
      "source": [
        "##Q 23. write a python code to create a set with the elements 1,2,3,4,5 and print it."
      ],
      "metadata": {
        "id": "fW5KfSWcl8u3"
      }
    },
    {
      "cell_type": "code",
      "source": [
        "my_set = {1, 2, 3, 4, 5}\n",
        "print(\"The set is:\", my_set)"
      ],
      "metadata": {
        "id": "pGrwqNEOl95g",
        "colab": {
          "base_uri": "https://localhost:8080/"
        },
        "outputId": "8123396f-569e-4c56-b447-043ea52fe545"
      },
      "execution_count": null,
      "outputs": [
        {
          "output_type": "stream",
          "name": "stdout",
          "text": [
            "The set is: {1, 2, 3, 4, 5}\n"
          ]
        }
      ]
    },
    {
      "cell_type": "markdown",
      "source": [
        "##Q 24. write a python code to add the element 6 to the set {1,2,3,4}"
      ],
      "metadata": {
        "id": "_OE_wKBGmCFH"
      }
    },
    {
      "cell_type": "code",
      "source": [
        "my_set = {1, 2, 3, 4}\n",
        "my_set.add(6)\n",
        "print(\"Updated set:\", my_set)"
      ],
      "metadata": {
        "id": "yp-F8cSBmDq-",
        "colab": {
          "base_uri": "https://localhost:8080/"
        },
        "outputId": "5cdfd9b7-cfeb-44e3-f430-0d15ca721c80"
      },
      "execution_count": null,
      "outputs": [
        {
          "output_type": "stream",
          "name": "stdout",
          "text": [
            "Updated set: {1, 2, 3, 4, 6}\n"
          ]
        }
      ]
    }
  ]
}